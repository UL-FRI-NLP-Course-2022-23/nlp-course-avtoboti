{
 "cells": [
  {
   "cell_type": "code",
   "execution_count": 1,
   "metadata": {},
   "outputs": [],
   "source": [
    "%load_ext autoreload\n",
    "%autoreload 2"
   ]
  },
  {
   "cell_type": "code",
   "execution_count": 2,
   "metadata": {},
   "outputs": [
    {
     "name": "stderr",
     "output_type": "stream",
     "text": [
      "Downloading https://raw.githubusercontent.com/stanfordnlp/stanza-resources/main/resources_1.5.0.json: 200kB [00:00, 52.1MB/s]                    \n",
      "2023-04-04 20:03:23 INFO: Downloading default packages for language: en (English) ...\n",
      "2023-04-04 20:03:29 INFO: File exists: ../models/stanza_resources/en/default.zip\n",
      "2023-04-04 20:03:38 INFO: Finished downloading models and saved to ../models/stanza_resources.\n"
     ]
    }
   ],
   "source": [
    "from main import read_file, get_sentences\n",
    "import stanza\n",
    "\n",
    "stanza.download(\"en\", model_dir=\"../models/stanza_resources\")"
   ]
  },
  {
   "cell_type": "code",
   "execution_count": 3,
   "metadata": {},
   "outputs": [
    {
     "name": "stderr",
     "output_type": "stream",
     "text": [
      "Could not read file '../data/english_short_stories/Henry_Red_Chief.txt' using the utf-8 encoding\n",
      "'utf-8' codec can't decode byte 0xd1 in position 123: invalid continuation byte\n",
      "Could not read file '../data/english_short_stories/Henry_Red_Chief.txt' using the ascii encoding\n",
      "'ascii' codec can't decode byte 0xd1 in position 123: ordinal not in range(128)\n",
      "2023-04-04 20:03:38 INFO: Checking for updates to resources.json in case models have been updated.  Note: this behavior can be turned off with download_method=None or download_method=DownloadMethod.REUSE_RESOURCES\n",
      "Downloading https://raw.githubusercontent.com/stanfordnlp/stanza-resources/main/resources_1.5.0.json: 200kB [00:00, 36.1MB/s]                    \n",
      "2023-04-04 20:03:40 INFO: Loading these models for language: en (English):\n",
      "=========================\n",
      "| Processor | Package   |\n",
      "-------------------------\n",
      "| tokenize  | combined  |\n",
      "| pos       | combined  |\n",
      "| lemma     | combined  |\n",
      "| ner       | ontonotes |\n",
      "=========================\n",
      "\n",
      "2023-04-04 20:03:40 INFO: Using device: cpu\n",
      "2023-04-04 20:03:40 INFO: Loading: tokenize\n",
      "2023-04-04 20:03:40 INFO: Loading: pos\n",
      "2023-04-04 20:03:41 INFO: Loading: lemma\n",
      "2023-04-04 20:03:41 INFO: Loading: ner\n",
      "2023-04-04 20:03:42 INFO: Done loading processors!\n"
     ]
    }
   ],
   "source": [
    "henry_red = read_file(\"../data/english_short_stories/Henry_Red_Chief.txt\")\n",
    "\n",
    "preprocess = stanza.Pipeline(\"en\", processors=\"tokenize, ner, pos, lemma\")\n",
    "\n",
    "doc = preprocess(henry_red)"
   ]
  },
  {
   "cell_type": "code",
   "execution_count": 4,
   "metadata": {},
   "outputs": [
    {
     "name": "stdout",
     "output_type": "stream",
     "text": [
      "[\n",
      "  {\n",
      "    \"id\": 1,\n",
      "    \"text\": \"The\",\n",
      "    \"lemma\": \"the\",\n",
      "    \"upos\": \"DET\",\n",
      "    \"xpos\": \"DT\",\n",
      "    \"feats\": \"Definite=Def|PronType=Art\",\n",
      "    \"start_char\": 2,\n",
      "    \"end_char\": 5,\n",
      "    \"ner\": \"B-PERSON\",\n",
      "    \"multi_ner\": [\n",
      "      \"B-PERSON\"\n",
      "    ]\n",
      "  },\n",
      "  {\n",
      "    \"id\": 2,\n",
      "    \"text\": \"Ransom\",\n",
      "    \"lemma\": \"Ransom\",\n",
      "    \"upos\": \"PROPN\",\n",
      "    \"xpos\": \"NNP\",\n",
      "    \"feats\": \"Number=Sing\",\n",
      "    \"start_char\": 6,\n",
      "    \"end_char\": 12,\n",
      "    \"ner\": \"I-PERSON\",\n",
      "    \"multi_ner\": [\n",
      "      \"I-PERSON\"\n",
      "    ]\n",
      "  },\n",
      "  {\n",
      "    \"id\": 3,\n",
      "    \"text\": \"of\",\n",
      "    \"lemma\": \"of\",\n",
      "    \"upos\": \"ADP\",\n",
      "    \"xpos\": \"IN\",\n",
      "    \"start_char\": 13,\n",
      "    \"end_char\": 15,\n",
      "    \"ner\": \"I-PERSON\",\n",
      "    \"multi_ner\": [\n",
      "      \"I-PERSON\"\n",
      "    ]\n",
      "  },\n",
      "  {\n",
      "    \"id\": 4,\n",
      "    \"text\": \"Red\",\n",
      "    \"lemma\": \"Red\",\n",
      "    \"upos\": \"ADJ\",\n",
      "    \"xpos\": \"NNP\",\n",
      "    \"feats\": \"Degree=Pos\",\n",
      "    \"start_char\": 16,\n",
      "    \"end_char\": 19,\n",
      "    \"ner\": \"I-PERSON\",\n",
      "    \"multi_ner\": [\n",
      "      \"I-PERSON\"\n",
      "    ]\n",
      "  },\n",
      "  {\n",
      "    \"id\": 5,\n",
      "    \"text\": \"Chief\",\n",
      "    \"lemma\": \"Chief\",\n",
      "    \"upos\": \"PROPN\",\n",
      "    \"xpos\": \"NNP\",\n",
      "    \"feats\": \"Number=Sing\",\n",
      "    \"start_char\": 20,\n",
      "    \"end_char\": 25,\n",
      "    \"ner\": \"E-PERSON\",\n",
      "    \"multi_ner\": [\n",
      "      \"E-PERSON\"\n",
      "    ]\n",
      "  }\n",
      "]\n"
     ]
    }
   ],
   "source": [
    "get_sentences(doc, lambda x: x.upos != \"PUNCT\")"
   ]
  }
 ],
 "metadata": {
  "kernelspec": {
   "display_name": "nlp",
   "language": "python",
   "name": "python3"
  },
  "language_info": {
   "codemirror_mode": {
    "name": "ipython",
    "version": 3
   },
   "file_extension": ".py",
   "mimetype": "text/x-python",
   "name": "python",
   "nbconvert_exporter": "python",
   "pygments_lexer": "ipython3",
   "version": "3.10.10"
  },
  "orig_nbformat": 4
 },
 "nbformat": 4,
 "nbformat_minor": 2
}
