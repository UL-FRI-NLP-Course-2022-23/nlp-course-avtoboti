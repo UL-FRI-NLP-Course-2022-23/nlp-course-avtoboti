{
 "cells": [
  {
   "cell_type": "code",
   "execution_count": 1,
   "metadata": {},
   "outputs": [],
   "source": [
    "%load_ext autoreload\n",
    "%autoreload 2"
   ]
  },
  {
   "cell_type": "code",
   "execution_count": 2,
   "metadata": {},
   "outputs": [
    {
     "name": "stderr",
     "output_type": "stream",
     "text": [
      "Downloading https://raw.githubusercontent.com/clarinsi/classla-resources/main/resources_2.0.json: 10.5kB [00:00, 325kB/s]                    \n",
      "2023-04-27 21:17:37 INFO: Downloading these customized packages for language: sl (Slovenian)...\n",
      "========================\n",
      "| Processor | Package  |\n",
      "------------------------\n",
      "| tokenize  | standard |\n",
      "| pos       | standard |\n",
      "| lemma     | standard |\n",
      "| depparse  | standard |\n",
      "| ner       | standard |\n",
      "| pretrain  | standard |\n",
      "========================\n",
      "\n",
      "2023-04-27 21:17:47 INFO: File exists: ../models/classla_resources/sl/pos/standard.pt.\n",
      "2023-04-27 21:17:47 INFO: File exists: ../models/classla_resources/sl/lemma/standard.pt.\n",
      "2023-04-27 21:17:48 INFO: File exists: ../models/classla_resources/sl/depparse/standard.pt.\n",
      "2023-04-27 21:17:48 INFO: File exists: ../models/classla_resources/sl/ner/standard.pt.\n",
      "2023-04-27 21:17:50 INFO: File exists: ../models/classla_resources/sl/pretrain/standard.pt.\n",
      "2023-04-27 21:17:50 INFO: Finished downloading models and saved to ../models/classla_resources.\n"
     ]
    }
   ],
   "source": [
    "from main import read_file, get_sentences\n",
    "import classla\n",
    "classla.download(\"sl\", dir=\"../models/classla_resources\")"
   ]
  },
  {
   "cell_type": "code",
   "execution_count": 3,
   "metadata": {},
   "outputs": [
    {
     "name": "stderr",
     "output_type": "stream",
     "text": [
      "2023-04-27 21:17:50 INFO: Loading these models for language: sl (Slovenian):\n",
      "========================\n",
      "| Processor | Package  |\n",
      "------------------------\n",
      "| tokenize  | standard |\n",
      "| pos       | standard |\n",
      "| lemma     | standard |\n",
      "| ner       | standard |\n",
      "========================\n",
      "\n",
      "2023-04-27 21:17:50 INFO: Use device: cpu\n",
      "2023-04-27 21:17:50 INFO: Loading: tokenize\n",
      "2023-04-27 21:17:50 INFO: Loading: pos\n",
      "2023-04-27 21:18:04 INFO: Loading: lemma\n",
      "2023-04-27 21:18:22 INFO: Loading: ner\n",
      "2023-04-27 21:18:24 INFO: Done loading processors!\n"
     ]
    }
   ],
   "source": [
    "tri_uganke = read_file(\"../data/slovenian_short_stories/Tri_uganke.txt\")\n",
    "\n",
    "preprocess = classla.Pipeline(\"sl\", dir=\"../models/classla_resources\", processors=\"tokenize, pos, lemma, ner\")\n",
    "\n",
    "doc = preprocess(tri_uganke)\n"
   ]
  },
  {
   "cell_type": "code",
   "execution_count": 8,
   "metadata": {},
   "outputs": [
    {
     "data": {
      "text/plain": [
       "5034"
      ]
     },
     "execution_count": 8,
     "metadata": {},
     "output_type": "execute_result"
    }
   ],
   "source": [
    "len(doc)"
   ]
  },
  {
   "cell_type": "code",
   "execution_count": 6,
   "metadata": {},
   "outputs": [
    {
     "name": "stderr",
     "output_type": "stream",
     "text": [
      "INFO:root:Initialized contextual BERT-based model with name cseb_senticoref_suk.\n"
     ]
    },
    {
     "ename": "AttributeError",
     "evalue": "'list' object has no attribute 'text'",
     "output_type": "error",
     "traceback": [
      "\u001b[0;31m---------------------------------------------------------------------------\u001b[0m",
      "\u001b[0;31mAttributeError\u001b[0m                            Traceback (most recent call last)",
      "\u001b[1;32m/mnt/HDD1/Documents/FAKS/NLP/nlp-course-avtoboti/src/sentiment_analisis_slo.ipynb Cell 5\u001b[0m in \u001b[0;36m4\n\u001b[1;32m      <a href='vscode-notebook-cell:/mnt/HDD1/Documents/FAKS/NLP/nlp-course-avtoboti/src/sentiment_analisis_slo.ipynb#W3sZmlsZQ%3D%3D?line=0'>1</a>\u001b[0m \u001b[39m# get_sentences(doc, lambda x: x.upos != \"PUNCT\")\u001b[39;00m\n\u001b[1;32m      <a href='vscode-notebook-cell:/mnt/HDD1/Documents/FAKS/NLP/nlp-course-avtoboti/src/sentiment_analisis_slo.ipynb#W3sZmlsZQ%3D%3D?line=1'>2</a>\u001b[0m \u001b[39mfrom\u001b[39;00m \u001b[39mcoref\u001b[39;00m\u001b[39m.\u001b[39;00m\u001b[39mrun_model\u001b[39;00m \u001b[39mimport\u001b[39;00m coref_resolution\n\u001b[0;32m----> <a href='vscode-notebook-cell:/mnt/HDD1/Documents/FAKS/NLP/nlp-course-avtoboti/src/sentiment_analisis_slo.ipynb#W3sZmlsZQ%3D%3D?line=3'>4</a>\u001b[0m coref_output \u001b[39m=\u001b[39m coref_resolution(doc\u001b[39m.\u001b[39;49msentences[\u001b[39m0\u001b[39;49m:\u001b[39m2\u001b[39;49m], \u001b[39m0.5\u001b[39;49m, \u001b[39mTrue\u001b[39;49;00m)\n\u001b[1;32m      <a href='vscode-notebook-cell:/mnt/HDD1/Documents/FAKS/NLP/nlp-course-avtoboti/src/sentiment_analisis_slo.ipynb#W3sZmlsZQ%3D%3D?line=5'>6</a>\u001b[0m coref_output\n",
      "File \u001b[0;32m/mnt/HDD1/Documents/FAKS/NLP/nlp-course-avtoboti/src/coref/run_model.py:70\u001b[0m, in \u001b[0;36mcoref_resolution\u001b[0;34m(classla_output, threshold, return_singletons)\u001b[0m\n\u001b[1;32m     69\u001b[0m \u001b[39mdef\u001b[39;00m \u001b[39mcoref_resolution\u001b[39m(classla_output, threshold, return_singletons):\n\u001b[0;32m---> 70\u001b[0m     coref_input \u001b[39m=\u001b[39m classla_output_to_coref_input(classla_output)\n\u001b[1;32m     71\u001b[0m     coref_output \u001b[39m=\u001b[39m coref_model\u001b[39m.\u001b[39mevaluate_single(coref_input)\n\u001b[1;32m     72\u001b[0m     \u001b[39m# 4. prepare response (mentions + coreferences)\u001b[39;00m\n",
      "File \u001b[0;32m/mnt/HDD1/Documents/FAKS/NLP/nlp-course-avtoboti/src/coref/run_model.py:11\u001b[0m, in \u001b[0;36mclassla_output_to_coref_input\u001b[0;34m(classla_output)\u001b[0m\n\u001b[1;32m      8\u001b[0m output_mentions \u001b[39m=\u001b[39m {}\n\u001b[1;32m      9\u001b[0m output_clusters \u001b[39m=\u001b[39m []\n\u001b[0;32m---> 11\u001b[0m str_document \u001b[39m=\u001b[39m classla_output\u001b[39m.\u001b[39;49mtext\n\u001b[1;32m     12\u001b[0m start_char \u001b[39m=\u001b[39m \u001b[39m0\u001b[39m\n\u001b[1;32m     13\u001b[0m MENTION_MSD \u001b[39m=\u001b[39m {\u001b[39m\"\u001b[39m\u001b[39mN\u001b[39m\u001b[39m\"\u001b[39m, \u001b[39m\"\u001b[39m\u001b[39mV\u001b[39m\u001b[39m\"\u001b[39m, \u001b[39m\"\u001b[39m\u001b[39mR\u001b[39m\u001b[39m\"\u001b[39m, \u001b[39m\"\u001b[39m\u001b[39mP\u001b[39m\u001b[39m\"\u001b[39m}  \u001b[39m# noun, verb, adverb, pronoun\u001b[39;00m\n",
      "\u001b[0;31mAttributeError\u001b[0m: 'list' object has no attribute 'text'"
     ]
    }
   ],
   "source": [
    "# get_sentences(doc, lambda x: x.upos != \"PUNCT\")\n",
    "from coref.run_model import coref_resolution\n",
    "\n",
    "coref_output = coref_resolution(doc.sentences[0:2], 0.5, True)\n",
    "\n",
    "coref_output"
   ]
  }
 ],
 "metadata": {
  "kernelspec": {
   "display_name": "nlp",
   "language": "python",
   "name": "python3"
  },
  "language_info": {
   "codemirror_mode": {
    "name": "ipython",
    "version": 3
   },
   "file_extension": ".py",
   "mimetype": "text/x-python",
   "name": "python",
   "nbconvert_exporter": "python",
   "pygments_lexer": "ipython3",
   "version": "3.10.10"
  },
  "orig_nbformat": 4
 },
 "nbformat": 4,
 "nbformat_minor": 2
}
