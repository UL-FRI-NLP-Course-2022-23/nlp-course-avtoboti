{
 "cells": [
  {
   "cell_type": "code",
   "execution_count": 1,
   "metadata": {},
   "outputs": [],
   "source": [
    "%load_ext autoreload\n",
    "%autoreload 2"
   ]
  },
  {
   "cell_type": "code",
   "execution_count": 2,
   "metadata": {},
   "outputs": [
    {
     "name": "stderr",
     "output_type": "stream",
     "text": [
      "Downloading https://raw.githubusercontent.com/clarinsi/classla-resources/main/resources_2.0.json: 10.5kB [00:00, 1.54MB/s]                   \n",
      "2023-04-24 20:28:35 INFO: Downloading these customized packages for language: sl (Slovenian)...\n",
      "========================\n",
      "| Processor | Package  |\n",
      "------------------------\n",
      "| tokenize  | standard |\n",
      "| pos       | standard |\n",
      "| lemma     | standard |\n",
      "| depparse  | standard |\n",
      "| ner       | standard |\n",
      "| pretrain  | standard |\n",
      "========================\n",
      "\n",
      "2023-04-24 20:28:38 INFO: File exists: ../models/classla_resources/sl/pos/standard.pt.\n",
      "2023-04-24 20:28:38 INFO: File exists: ../models/classla_resources/sl/lemma/standard.pt.\n",
      "2023-04-24 20:28:38 INFO: File exists: ../models/classla_resources/sl/depparse/standard.pt.\n",
      "2023-04-24 20:28:38 INFO: File exists: ../models/classla_resources/sl/ner/standard.pt.\n",
      "2023-04-24 20:28:38 INFO: File exists: ../models/classla_resources/sl/pretrain/standard.pt.\n",
      "2023-04-24 20:28:38 INFO: Finished downloading models and saved to ../models/classla_resources.\n"
     ]
    }
   ],
   "source": [
    "from main import read_file, get_sentences\n",
    "import classla\n",
    "classla.download(\"sl\", dir=\"../models/classla_resources\")"
   ]
  },
  {
   "cell_type": "code",
   "execution_count": 8,
   "metadata": {},
   "outputs": [
    {
     "name": "stderr",
     "output_type": "stream",
     "text": [
      "2023-04-24 20:31:26 INFO: Loading these models for language: sl (Slovenian):\n",
      "========================\n",
      "| Processor | Package  |\n",
      "------------------------\n",
      "| tokenize  | standard |\n",
      "| pos       | standard |\n",
      "| lemma     | standard |\n",
      "| ner       | standard |\n",
      "========================\n",
      "\n",
      "2023-04-24 20:31:26 INFO: Use device: cpu\n",
      "2023-04-24 20:31:26 INFO: Loading: tokenize\n",
      "2023-04-24 20:31:26 INFO: Loading: pos\n",
      "2023-04-24 20:31:40 INFO: Loading: lemma\n",
      "2023-04-24 20:31:54 INFO: Loading: ner\n",
      "2023-04-24 20:31:54 INFO: Done loading processors!\n"
     ]
    }
   ],
   "source": [
    "tri_uganke = read_file(\"../data/slovenian_novels/Nataša.txt\")\n",
    "\n",
    "preprocess = classla.Pipeline(\"sl\", dir=\"../models/classla_resources\", processors=\"tokenize,pos,lemma,ner\")\n",
    "\n",
    "doc = preprocess(tri_uganke)\n"
   ]
  },
  {
   "cell_type": "code",
   "execution_count": 9,
   "metadata": {},
   "outputs": [],
   "source": [
    "sentences = get_sentences(doc, lambda x: x.upos != \"PUNCT\")"
   ]
  },
  {
   "cell_type": "code",
   "execution_count": 53,
   "metadata": {},
   "outputs": [
    {
     "data": {
      "text/plain": [
       "{'Nataša': 37,\n",
       " 'Mario': 34,\n",
       " 'Karlo': 18,\n",
       " 'Marija': 13,\n",
       " 'Fabio': 6,\n",
       " 'Torsen': 5,\n",
       " 'torsen': 4,\n",
       " 'Marijev': 4,\n",
       " 'Italijan': 3,\n",
       " 'Natašin': 3,\n",
       " 'Andrejev': 3,\n",
       " 'Karlov': 3,\n",
       " 'Karel': 3,\n",
       " 'bog': 2,\n",
       " 'Petrovka': 2,\n",
       " 'Židovka': 2,\n",
       " 'praški': 1,\n",
       " 'Sibir': 1,\n",
       " 'Nikitina': 1,\n",
       " 'Samojev': 1,\n",
       " 'Bolna': 1,\n",
       " 'Natašja': 1,\n",
       " 'Rusinja': 1,\n",
       " 'Bolgar': 1,\n",
       " 'jetičen': 1,\n",
       " 'Kovač': 1,\n",
       " 'Biješ': 1,\n",
       " 'Sramuj': 1,\n",
       " 'ruvati': 1,\n",
       " 'ali': 1,\n",
       " 'marijev': 1}"
      ]
     },
     "execution_count": 53,
     "metadata": {},
     "output_type": "execute_result"
    }
   ],
   "source": [
    "from main import get_named_entities\n",
    "named_entities = get_named_entities(doc, lang='sl')\n",
    "\n",
    "names = []\n",
    "\n",
    "for ne in named_entities:\n",
    "    for named_entity in ne:\n",
    "        names.append(named_entity.to_dict()[0]['lemma'])\n",
    "\n",
    "from collections import Counter\n",
    "\n",
    "name_frequencies = Counter(names)\n",
    "name_frequencies = {k:v for (k,v) in sorted(name_frequencies.items(), key=lambda item: item[1], reverse=True)}\n",
    "name_frequencies"
   ]
  }
 ],
 "metadata": {
  "kernelspec": {
   "display_name": "nlp",
   "language": "python",
   "name": "python3"
  },
  "language_info": {
   "codemirror_mode": {
    "name": "ipython",
    "version": 3
   },
   "file_extension": ".py",
   "mimetype": "text/x-python",
   "name": "python",
   "nbconvert_exporter": "python",
   "pygments_lexer": "ipython3",
   "version": "3.9.13"
  },
  "orig_nbformat": 4
 },
 "nbformat": 4,
 "nbformat_minor": 2
}
